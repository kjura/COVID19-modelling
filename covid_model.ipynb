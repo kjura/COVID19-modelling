{
 "cells": [
  {
   "cell_type": "markdown",
   "source": [
    "Import the necessary packages for data analysis."
   ],
   "metadata": {
    "collapsed": false
   }
  },
  {
   "cell_type": "code",
   "execution_count": 58,
   "metadata": {
    "collapsed": true
   },
   "outputs": [],
   "source": [
    "import numpy as np\n",
    "import pandas as pd\n",
    "import matplotlib.pyplot as plt\n",
    "import scipy\n",
    "import sklearn\n",
    "from scipy.optimize import curve_fit\n",
    "from sklearn.metrics import r2_score"
   ]
  },
  {
   "cell_type": "markdown",
   "source": [
    "Load the data and have a first glance at it."
   ],
   "metadata": {
    "collapsed": false
   }
  },
  {
   "cell_type": "code",
   "execution_count": 59,
   "outputs": [
    {
     "name": "stdout",
     "output_type": "stream",
     "text": [
      "The data was loaded correctly\n"
     ]
    },
    {
     "data": {
      "text/plain": "                                            Date (CET)  \\\n0                                         4 March 2020   \n1                                         5 March 2020   \n2                                         6 March 2020   \n3                                         7 March 2020   \n4                                         8 March 2020   \n..                                                 ...   \n176                                     27 August 2020   \n177                                     28 August 2020   \n178                         Infections per voivodeship   \n179                                         Date (CET)   \n180  Notes:   ^ Laboratory-confirmed cases, includi...   \n\n                                    Lower Silesia (DS)  \\\n0                                                  NaN   \n1                                                  NaN   \n2                                                    1   \n3                                                  NaN   \n4                                                    1   \n..                                                 ...   \n176                                                 28   \n177                                                 30   \n178                                               3995   \n179                                 Lower Silesia (DS)   \n180  Notes:   ^ Laboratory-confirmed cases, includi...   \n\n                                Kuyavia-Pomerania (KP)  \\\n0                                                  NaN   \n1                                                  NaN   \n2                                                  NaN   \n3                                                  NaN   \n4                                                  NaN   \n..                                                 ...   \n176                                                 24   \n177                                                 38   \n178                                               1268   \n179                             Kuyavia-Pomerania (KP)   \n180  Notes:   ^ Laboratory-confirmed cases, includi...   \n\n                                           Lubusz (LB)  \\\n0                                                    1   \n1                                                  NaN   \n2                                                  NaN   \n3                                                  NaN   \n4                                                  NaN   \n..                                                 ...   \n176                                                 12   \n177                                                  9   \n178                                                660   \n179                                        Lubusz (LB)   \n180  Notes:   ^ Laboratory-confirmed cases, includi...   \n\n                                             Łódź (LD)  \\\n0                                                  NaN   \n1                                                  NaN   \n2                                                  NaN   \n3                                                  NaN   \n4                                                  NaN   \n..                                                 ...   \n176                                                 47   \n177                                                 39   \n178                                               5196   \n179                                          Łódź (LD)   \n180  Notes:   ^ Laboratory-confirmed cases, includi...   \n\n                                           Lublin (LU)  \\\n0                                                  NaN   \n1                                                  NaN   \n2                                                  NaN   \n3                                                  NaN   \n4                                                  NaN   \n..                                                 ...   \n176                                                 14   \n177                                                 27   \n178                                               1484   \n179                                        Lublin (LU)   \n180  Notes:   ^ Laboratory-confirmed cases, includi...   \n\n                                    Lesser Poland (MA)  \\\n0                                                  NaN   \n1                                                  NaN   \n2                                                  NaN   \n3                                                  NaN   \n4                                                  NaN   \n..                                                 ...   \n176                                                233   \n177                                                139   \n178                                               7128   \n179                                 Lesser Poland (MA)   \n180  Notes:   ^ Laboratory-confirmed cases, includi...   \n\n                                  Masovia (MZ; Warsaw)  \\\n0                                                  NaN   \n1                                                  NaN   \n2                                                  NaN   \n3                                                  NaN   \n4                                                    2   \n..                                                 ...   \n176                                                107   \n177                                                130   \n178                                               9108   \n179                               Masovia (MZ; Warsaw)   \n180  Notes:   ^ Laboratory-confirmed cases, includi...   \n\n                                            Opole (OP)  \\\n0                                                  NaN   \n1                                                  NaN   \n2                                                  NaN   \n3                                                  NaN   \n4                                                  NaN   \n..                                                 ...   \n176                                                 16   \n177                                                 15   \n178                                               1603   \n179                                         Opole (OP)   \n180  Notes:   ^ Laboratory-confirmed cases, includi...   \n\n                                        Podlaskie (PD)  \\\n0                                                  NaN   \n1                                                  NaN   \n2                                                  NaN   \n3                                                  NaN   \n4                                                  NaN   \n..                                                 ...   \n176                                                 12   \n177                                                  5   \n178                                               1262   \n179                                     Podlaskie (PD)   \n180  Notes:   ^ Laboratory-confirmed cases, includi...   \n\n                                    Subcarpathian (PK)  \\\n0                                                  NaN   \n1                                                  NaN   \n2                                                  NaN   \n3                                                  NaN   \n4                                                  NaN   \n..                                                 ...   \n176                                                 33   \n177                                                 70   \n178                                               2331   \n179                                 Subcarpathian (PK)   \n180  Notes:   ^ Laboratory-confirmed cases, includi...   \n\n                                        Pomerania (PM)  \\\n0                                                  NaN   \n1                                                  NaN   \n2                                                  NaN   \n3                                                  NaN   \n4                                                  NaN   \n..                                                 ...   \n176                                                 71   \n177                                                 42   \n178                                               2371   \n179                                     Pomerania (PM)   \n180  Notes:   ^ Laboratory-confirmed cases, includi...   \n\n                                       Holy Cross (SK)  \\\n0                                                  NaN   \n1                                                  NaN   \n2                                                  NaN   \n3                                                  NaN   \n4                                                  NaN   \n..                                                 ...   \n176                                                 18   \n177                                                 19   \n178                                               1380   \n179                                    Holy Cross (SK)   \n180  Notes:   ^ Laboratory-confirmed cases, includi...   \n\n                                          Silesia (SL)  \\\n0                                                  NaN   \n1                                                  NaN   \n2                                                  NaN   \n3                                                  NaN   \n4                                                    2   \n..                                                 ...   \n176                                                118   \n177                                                104   \n178                                              20236   \n179                                       Silesia (SL)   \n180  Notes:   ^ Laboratory-confirmed cases, includi...   \n\n                                   Warmia–Masuria (WN)  \\\n0                                                  NaN   \n1                                                  NaN   \n2                                                    1   \n3                                                    1   \n4                                                  NaN   \n..                                                 ...   \n176                                                 51   \n177                                                 22   \n178                                                857   \n179                                Warmia–Masuria (WN)   \n180  Notes:   ^ Laboratory-confirmed cases, includi...   \n\n                                   Greater Poland (WP)  \\\n0                                                  NaN   \n1                                                  NaN   \n2                                                  NaN   \n3                                                  NaN   \n4                                                  NaN   \n..                                                 ...   \n176                                                 92   \n177                                                 92   \n178                                               5505   \n179                                Greater Poland (WP)   \n180  Notes:   ^ Laboratory-confirmed cases, includi...   \n\n                                   West Pomerania (ZP)  \\\n0                                                  NaN   \n1                                                  NaN   \n2                                                    2   \n3                                                  NaN   \n4                                                  NaN   \n..                                                 ...   \n176                                                 11   \n177                                                 10   \n178                                               1096   \n179                                West Pomerania (ZP)   \n180  Notes:   ^ Laboratory-confirmed cases, includi...   \n\n                                          Poland daily  \\\n0                                                    1   \n1                                                    0   \n2                                                    4   \n3                                                    1   \n4                                                    5   \n..                                                 ...   \n176                                                887   \n177                                                791   \n178                                                NaN   \n179                                       Poland daily   \n180  Notes:   ^ Laboratory-confirmed cases, includi...   \n\n                                          Poland total  \\\n0                                                    1   \n1                                                    1   \n2                                                    5   \n3                                                    6   \n4                                                   11   \n..                                                 ...   \n176                                             64 689   \n177                                             65 480   \n178                                             65 480   \n179                                       Poland total   \n180  Notes:   ^ Laboratory-confirmed cases, includi...   \n\n                                               Sources  \n0                                                [714]  \n1                                                  NaN  \n2                                                [715]  \n3                                                 [17]  \n4                                             [19][22]  \n..                                                 ...  \n176                                              [829]  \n177                                              [830]  \n178                                                NaN  \n179                                            Sources  \n180  Notes:   ^ Laboratory-confirmed cases, includi...  \n\n[181 rows x 20 columns]",
      "text/html": "<div>\n<style scoped>\n    .dataframe tbody tr th:only-of-type {\n        vertical-align: middle;\n    }\n\n    .dataframe tbody tr th {\n        vertical-align: top;\n    }\n\n    .dataframe thead th {\n        text-align: right;\n    }\n</style>\n<table border=\"1\" class=\"dataframe\">\n  <thead>\n    <tr style=\"text-align: right;\">\n      <th></th>\n      <th>Date (CET)</th>\n      <th>Lower Silesia (DS)</th>\n      <th>Kuyavia-Pomerania (KP)</th>\n      <th>Lubusz (LB)</th>\n      <th>Łódź (LD)</th>\n      <th>Lublin (LU)</th>\n      <th>Lesser Poland (MA)</th>\n      <th>Masovia (MZ; Warsaw)</th>\n      <th>Opole (OP)</th>\n      <th>Podlaskie (PD)</th>\n      <th>Subcarpathian (PK)</th>\n      <th>Pomerania (PM)</th>\n      <th>Holy Cross (SK)</th>\n      <th>Silesia (SL)</th>\n      <th>Warmia–Masuria (WN)</th>\n      <th>Greater Poland (WP)</th>\n      <th>West Pomerania (ZP)</th>\n      <th>Poland daily</th>\n      <th>Poland total</th>\n      <th>Sources</th>\n    </tr>\n  </thead>\n  <tbody>\n    <tr>\n      <th>0</th>\n      <td>4 March 2020</td>\n      <td>NaN</td>\n      <td>NaN</td>\n      <td>1</td>\n      <td>NaN</td>\n      <td>NaN</td>\n      <td>NaN</td>\n      <td>NaN</td>\n      <td>NaN</td>\n      <td>NaN</td>\n      <td>NaN</td>\n      <td>NaN</td>\n      <td>NaN</td>\n      <td>NaN</td>\n      <td>NaN</td>\n      <td>NaN</td>\n      <td>NaN</td>\n      <td>1</td>\n      <td>1</td>\n      <td>[714]</td>\n    </tr>\n    <tr>\n      <th>1</th>\n      <td>5 March 2020</td>\n      <td>NaN</td>\n      <td>NaN</td>\n      <td>NaN</td>\n      <td>NaN</td>\n      <td>NaN</td>\n      <td>NaN</td>\n      <td>NaN</td>\n      <td>NaN</td>\n      <td>NaN</td>\n      <td>NaN</td>\n      <td>NaN</td>\n      <td>NaN</td>\n      <td>NaN</td>\n      <td>NaN</td>\n      <td>NaN</td>\n      <td>NaN</td>\n      <td>0</td>\n      <td>1</td>\n      <td>NaN</td>\n    </tr>\n    <tr>\n      <th>2</th>\n      <td>6 March 2020</td>\n      <td>1</td>\n      <td>NaN</td>\n      <td>NaN</td>\n      <td>NaN</td>\n      <td>NaN</td>\n      <td>NaN</td>\n      <td>NaN</td>\n      <td>NaN</td>\n      <td>NaN</td>\n      <td>NaN</td>\n      <td>NaN</td>\n      <td>NaN</td>\n      <td>NaN</td>\n      <td>1</td>\n      <td>NaN</td>\n      <td>2</td>\n      <td>4</td>\n      <td>5</td>\n      <td>[715]</td>\n    </tr>\n    <tr>\n      <th>3</th>\n      <td>7 March 2020</td>\n      <td>NaN</td>\n      <td>NaN</td>\n      <td>NaN</td>\n      <td>NaN</td>\n      <td>NaN</td>\n      <td>NaN</td>\n      <td>NaN</td>\n      <td>NaN</td>\n      <td>NaN</td>\n      <td>NaN</td>\n      <td>NaN</td>\n      <td>NaN</td>\n      <td>NaN</td>\n      <td>1</td>\n      <td>NaN</td>\n      <td>NaN</td>\n      <td>1</td>\n      <td>6</td>\n      <td>[17]</td>\n    </tr>\n    <tr>\n      <th>4</th>\n      <td>8 March 2020</td>\n      <td>1</td>\n      <td>NaN</td>\n      <td>NaN</td>\n      <td>NaN</td>\n      <td>NaN</td>\n      <td>NaN</td>\n      <td>2</td>\n      <td>NaN</td>\n      <td>NaN</td>\n      <td>NaN</td>\n      <td>NaN</td>\n      <td>NaN</td>\n      <td>2</td>\n      <td>NaN</td>\n      <td>NaN</td>\n      <td>NaN</td>\n      <td>5</td>\n      <td>11</td>\n      <td>[19][22]</td>\n    </tr>\n    <tr>\n      <th>...</th>\n      <td>...</td>\n      <td>...</td>\n      <td>...</td>\n      <td>...</td>\n      <td>...</td>\n      <td>...</td>\n      <td>...</td>\n      <td>...</td>\n      <td>...</td>\n      <td>...</td>\n      <td>...</td>\n      <td>...</td>\n      <td>...</td>\n      <td>...</td>\n      <td>...</td>\n      <td>...</td>\n      <td>...</td>\n      <td>...</td>\n      <td>...</td>\n      <td>...</td>\n    </tr>\n    <tr>\n      <th>176</th>\n      <td>27 August 2020</td>\n      <td>28</td>\n      <td>24</td>\n      <td>12</td>\n      <td>47</td>\n      <td>14</td>\n      <td>233</td>\n      <td>107</td>\n      <td>16</td>\n      <td>12</td>\n      <td>33</td>\n      <td>71</td>\n      <td>18</td>\n      <td>118</td>\n      <td>51</td>\n      <td>92</td>\n      <td>11</td>\n      <td>887</td>\n      <td>64 689</td>\n      <td>[829]</td>\n    </tr>\n    <tr>\n      <th>177</th>\n      <td>28 August 2020</td>\n      <td>30</td>\n      <td>38</td>\n      <td>9</td>\n      <td>39</td>\n      <td>27</td>\n      <td>139</td>\n      <td>130</td>\n      <td>15</td>\n      <td>5</td>\n      <td>70</td>\n      <td>42</td>\n      <td>19</td>\n      <td>104</td>\n      <td>22</td>\n      <td>92</td>\n      <td>10</td>\n      <td>791</td>\n      <td>65 480</td>\n      <td>[830]</td>\n    </tr>\n    <tr>\n      <th>178</th>\n      <td>Infections per voivodeship</td>\n      <td>3995</td>\n      <td>1268</td>\n      <td>660</td>\n      <td>5196</td>\n      <td>1484</td>\n      <td>7128</td>\n      <td>9108</td>\n      <td>1603</td>\n      <td>1262</td>\n      <td>2331</td>\n      <td>2371</td>\n      <td>1380</td>\n      <td>20236</td>\n      <td>857</td>\n      <td>5505</td>\n      <td>1096</td>\n      <td>NaN</td>\n      <td>65 480</td>\n      <td>NaN</td>\n    </tr>\n    <tr>\n      <th>179</th>\n      <td>Date (CET)</td>\n      <td>Lower Silesia (DS)</td>\n      <td>Kuyavia-Pomerania (KP)</td>\n      <td>Lubusz (LB)</td>\n      <td>Łódź (LD)</td>\n      <td>Lublin (LU)</td>\n      <td>Lesser Poland (MA)</td>\n      <td>Masovia (MZ; Warsaw)</td>\n      <td>Opole (OP)</td>\n      <td>Podlaskie (PD)</td>\n      <td>Subcarpathian (PK)</td>\n      <td>Pomerania (PM)</td>\n      <td>Holy Cross (SK)</td>\n      <td>Silesia (SL)</td>\n      <td>Warmia–Masuria (WN)</td>\n      <td>Greater Poland (WP)</td>\n      <td>West Pomerania (ZP)</td>\n      <td>Poland daily</td>\n      <td>Poland total</td>\n      <td>Sources</td>\n    </tr>\n    <tr>\n      <th>180</th>\n      <td>Notes:   ^ Laboratory-confirmed cases, includi...</td>\n      <td>Notes:   ^ Laboratory-confirmed cases, includi...</td>\n      <td>Notes:   ^ Laboratory-confirmed cases, includi...</td>\n      <td>Notes:   ^ Laboratory-confirmed cases, includi...</td>\n      <td>Notes:   ^ Laboratory-confirmed cases, includi...</td>\n      <td>Notes:   ^ Laboratory-confirmed cases, includi...</td>\n      <td>Notes:   ^ Laboratory-confirmed cases, includi...</td>\n      <td>Notes:   ^ Laboratory-confirmed cases, includi...</td>\n      <td>Notes:   ^ Laboratory-confirmed cases, includi...</td>\n      <td>Notes:   ^ Laboratory-confirmed cases, includi...</td>\n      <td>Notes:   ^ Laboratory-confirmed cases, includi...</td>\n      <td>Notes:   ^ Laboratory-confirmed cases, includi...</td>\n      <td>Notes:   ^ Laboratory-confirmed cases, includi...</td>\n      <td>Notes:   ^ Laboratory-confirmed cases, includi...</td>\n      <td>Notes:   ^ Laboratory-confirmed cases, includi...</td>\n      <td>Notes:   ^ Laboratory-confirmed cases, includi...</td>\n      <td>Notes:   ^ Laboratory-confirmed cases, includi...</td>\n      <td>Notes:   ^ Laboratory-confirmed cases, includi...</td>\n      <td>Notes:   ^ Laboratory-confirmed cases, includi...</td>\n      <td>Notes:   ^ Laboratory-confirmed cases, includi...</td>\n    </tr>\n  </tbody>\n</table>\n<p>181 rows × 20 columns</p>\n</div>"
     },
     "execution_count": 59,
     "metadata": {},
     "output_type": "execute_result"
    }
   ],
   "source": [
    "try:\n",
    "    csv_path = \"../COVID19-modelling/data/covid_pol_voivodeship.csv\"\n",
    "    load_csv = pd.read_csv(csv_path)\n",
    "    print(\"The data was loaded correctly\")\n",
    "except NameError:\n",
    "    print(\"The path\", csv_path, \"cannot be found\")\n",
    "\n",
    "load_csv"
   ],
   "metadata": {
    "collapsed": false,
    "pycharm": {
     "name": "#%%\n"
    }
   }
  },
  {
   "cell_type": "markdown",
   "source": [
    "Reorganize and clean the data. Prepare it for an analysis."
   ],
   "metadata": {
    "collapsed": false
   }
  },
  {
   "cell_type": "code",
   "execution_count": 60,
   "outputs": [
    {
     "data": {
      "text/plain": "               Date Number of infections in Lesser Poland\n0      4 March 2020                                   NaN\n1      5 March 2020                                   NaN\n2      6 March 2020                                   NaN\n3      7 March 2020                                   NaN\n4      8 March 2020                                   NaN\n..              ...                                   ...\n173  24 August 2020                                    61\n174  25 August 2020                                   141\n175  26 August 2020                                   118\n176  27 August 2020                                   233\n177  28 August 2020                                   139\n\n[178 rows x 2 columns]",
      "text/html": "<div>\n<style scoped>\n    .dataframe tbody tr th:only-of-type {\n        vertical-align: middle;\n    }\n\n    .dataframe tbody tr th {\n        vertical-align: top;\n    }\n\n    .dataframe thead th {\n        text-align: right;\n    }\n</style>\n<table border=\"1\" class=\"dataframe\">\n  <thead>\n    <tr style=\"text-align: right;\">\n      <th></th>\n      <th>Date</th>\n      <th>Number of infections in Lesser Poland</th>\n    </tr>\n  </thead>\n  <tbody>\n    <tr>\n      <th>0</th>\n      <td>4 March 2020</td>\n      <td>NaN</td>\n    </tr>\n    <tr>\n      <th>1</th>\n      <td>5 March 2020</td>\n      <td>NaN</td>\n    </tr>\n    <tr>\n      <th>2</th>\n      <td>6 March 2020</td>\n      <td>NaN</td>\n    </tr>\n    <tr>\n      <th>3</th>\n      <td>7 March 2020</td>\n      <td>NaN</td>\n    </tr>\n    <tr>\n      <th>4</th>\n      <td>8 March 2020</td>\n      <td>NaN</td>\n    </tr>\n    <tr>\n      <th>...</th>\n      <td>...</td>\n      <td>...</td>\n    </tr>\n    <tr>\n      <th>173</th>\n      <td>24 August 2020</td>\n      <td>61</td>\n    </tr>\n    <tr>\n      <th>174</th>\n      <td>25 August 2020</td>\n      <td>141</td>\n    </tr>\n    <tr>\n      <th>175</th>\n      <td>26 August 2020</td>\n      <td>118</td>\n    </tr>\n    <tr>\n      <th>176</th>\n      <td>27 August 2020</td>\n      <td>233</td>\n    </tr>\n    <tr>\n      <th>177</th>\n      <td>28 August 2020</td>\n      <td>139</td>\n    </tr>\n  </tbody>\n</table>\n<p>178 rows × 2 columns</p>\n</div>"
     },
     "execution_count": 60,
     "metadata": {},
     "output_type": "execute_result"
    }
   ],
   "source": [
    "lesser_pol_data = [load_csv[\"Date (CET)\"], load_csv[\"Lesser Poland (MA)\"]]\n",
    "headers = [\"Date\", \"Number of infections in Lesser Poland\"]\n",
    "\n",
    "df3 = pd.concat(lesser_pol_data, axis=1, keys=headers)\n",
    "\n",
    "df3\n",
    "\n",
    "df4 = df3.drop([180, 179, 178])\n",
    "df4\n"
   ],
   "metadata": {
    "collapsed": false,
    "pycharm": {
     "name": "#%%\n"
    }
   }
  },
  {
   "cell_type": "markdown",
   "source": [
    "Get rid of NaNs"
   ],
   "metadata": {
    "collapsed": false
   }
  },
  {
   "cell_type": "code",
   "execution_count": 61,
   "outputs": [
    {
     "data": {
      "text/plain": "               Date Number of infections in Lesser Poland\n0      4 March 2020                                     0\n1      5 March 2020                                     0\n2      6 March 2020                                     0\n3      7 March 2020                                     0\n4      8 March 2020                                     0\n..              ...                                   ...\n173  24 August 2020                                    61\n174  25 August 2020                                   141\n175  26 August 2020                                   118\n176  27 August 2020                                   233\n177  28 August 2020                                   139\n\n[178 rows x 2 columns]",
      "text/html": "<div>\n<style scoped>\n    .dataframe tbody tr th:only-of-type {\n        vertical-align: middle;\n    }\n\n    .dataframe tbody tr th {\n        vertical-align: top;\n    }\n\n    .dataframe thead th {\n        text-align: right;\n    }\n</style>\n<table border=\"1\" class=\"dataframe\">\n  <thead>\n    <tr style=\"text-align: right;\">\n      <th></th>\n      <th>Date</th>\n      <th>Number of infections in Lesser Poland</th>\n    </tr>\n  </thead>\n  <tbody>\n    <tr>\n      <th>0</th>\n      <td>4 March 2020</td>\n      <td>0</td>\n    </tr>\n    <tr>\n      <th>1</th>\n      <td>5 March 2020</td>\n      <td>0</td>\n    </tr>\n    <tr>\n      <th>2</th>\n      <td>6 March 2020</td>\n      <td>0</td>\n    </tr>\n    <tr>\n      <th>3</th>\n      <td>7 March 2020</td>\n      <td>0</td>\n    </tr>\n    <tr>\n      <th>4</th>\n      <td>8 March 2020</td>\n      <td>0</td>\n    </tr>\n    <tr>\n      <th>...</th>\n      <td>...</td>\n      <td>...</td>\n    </tr>\n    <tr>\n      <th>173</th>\n      <td>24 August 2020</td>\n      <td>61</td>\n    </tr>\n    <tr>\n      <th>174</th>\n      <td>25 August 2020</td>\n      <td>141</td>\n    </tr>\n    <tr>\n      <th>175</th>\n      <td>26 August 2020</td>\n      <td>118</td>\n    </tr>\n    <tr>\n      <th>176</th>\n      <td>27 August 2020</td>\n      <td>233</td>\n    </tr>\n    <tr>\n      <th>177</th>\n      <td>28 August 2020</td>\n      <td>139</td>\n    </tr>\n  </tbody>\n</table>\n<p>178 rows × 2 columns</p>\n</div>"
     },
     "execution_count": 61,
     "metadata": {},
     "output_type": "execute_result"
    }
   ],
   "source": [
    "df5 = df4.replace(np.nan, 0)\n",
    "df5\n",
    "\n"
   ],
   "metadata": {
    "collapsed": false,
    "pycharm": {
     "name": "#%%\n"
    }
   }
  },
  {
   "cell_type": "markdown",
   "source": [
    "Convert date to numerical form."
   ],
   "metadata": {
    "collapsed": false
   }
  },
  {
   "cell_type": "code",
   "execution_count": 62,
   "outputs": [
    {
     "data": {
      "text/plain": "[0,\n 0,\n 0,\n 0,\n 0,\n 1,\n 0,\n 0,\n 0,\n 0,\n 0,\n 0,\n 1,\n 3,\n 1,\n 1,\n 7,\n 2,\n 8,\n 9,\n 16,\n 7,\n 13,\n 24,\n 19,\n 38,\n 24,\n 18,\n 17,\n 21,\n 32,\n 46,\n 19,\n 22,\n 22,\n 28,\n 34,\n 20,\n 33,\n 19,\n 13,\n 19,\n 24,\n 14,\n 21,\n 34,\n 16,\n 33,\n 28,\n 27,\n 32,\n 22,\n 24,\n 9,\n 20,\n 11,\n 24,\n 21,\n 16,\n 21,\n 10,\n 32,\n 21,\n 12,\n 10,\n 14,\n 10,\n 4,\n 24,\n 3,\n 10,\n 24,\n 9,\n 7,\n 4,\n 5,\n 15,\n 2,\n 15,\n 2,\n 4,\n 5,\n 0,\n 3,\n 2,\n 9,\n 9,\n 16,\n 10,\n 6,\n 10,\n 16,\n 21,\n 27,\n 22,\n 32,\n 30,\n 43,\n 20,\n 9,\n 13,\n 18,\n 16,\n 9,\n 12,\n 23,\n 12,\n 13,\n 23,\n 16,\n 6,\n 2,\n 5,\n 11,\n 17,\n 10,\n 18,\n 16,\n 44,\n 18,\n 29,\n 13,\n 29,\n 17,\n 12,\n 21,\n 28,\n 35,\n 19,\n 53,\n 29,\n 38,\n 44,\n 43,\n 60,\n 70,\n 76,\n 115,\n 40,\n 62,\n 50,\n 75,\n 99,\n 142,\n 109,\n 61,\n 91,\n 102,\n 133,\n 77,\n 157,\n 76,\n 78,\n 88,\n 90,\n 118,\n 144,\n 124,\n 108,\n 175,\n 71,\n 173,\n 136,\n 184,\n 150,\n 77,\n 84,\n 130,\n 140,\n 151,\n 156,\n 193,\n 98,\n 61,\n 141,\n 118,\n 233,\n 139]"
     },
     "execution_count": 62,
     "metadata": {},
     "output_type": "execute_result"
    }
   ],
   "source": [
    "date_elements = []\n",
    "infected = []\n",
    "for row in df5.itertuples(index=False):\n",
    "    #print(row[0])\n",
    "    date_elements.append(row[0].split())\n",
    "\n",
    "# date elem has 178 records\n",
    "\n",
    "for infections in df5.itertuples(index=False):\n",
    "    infected.append(int(infections[1]))\n",
    "\n",
    "t = np.linspace(0, len(date_elements), len(date_elements), endpoint=False)\n",
    "\n",
    "infected\n",
    "\n",
    "\n"
   ],
   "metadata": {
    "collapsed": false,
    "pycharm": {
     "name": "#%%\n"
    }
   }
  },
  {
   "cell_type": "code",
   "execution_count": 95,
   "outputs": [
    {
     "name": "stdout",
     "output_type": "stream",
     "text": [
      "Same length\n"
     ]
    },
    {
     "data": {
      "text/plain": "<Figure size 432x288 with 1 Axes>",
      "image/png": "[encoded data removed]"
     },
     "metadata": {
      "needs_background": "light"
     },
     "output_type": "display_data"
    }
   ],
   "source": [
    "t\n",
    "\n",
    "if len(t) == len(infected):\n",
    "    print(\"Same length\")\n",
    "\n",
    "\n",
    "fig = plt.figure()\n",
    "ax = fig.add_subplot(111)\n",
    "\n",
    "ax.set_xlabel(\"Days passed\")\n",
    "ax.set_ylabel(\"Infected people\")\n",
    "\n",
    "ax.spines[\"bottom\"].set_color(\"white\")\n",
    "ax.spines[\"top\"].set_color(\"red\")\n",
    "ax.xaxis.label.set_color('white')\n",
    "ax.yaxis.label.set_color('white')\n",
    "\n",
    "ax.tick_params(axis='x', colors='red')\n",
    "ax.tick_params(axis='y', colors='red')\n",
    "\n",
    "\n",
    "\n",
    "ax.scatter(t, infected)\n",
    "plt.show()"
   ],
   "metadata": {
    "collapsed": false,
    "pycharm": {
     "name": "#%%\n"
    }
   }
  },
  {
   "cell_type": "markdown",
   "source": [
    "We'll try to predict the future using exponential and logistic function."
   ],
   "metadata": {
    "collapsed": false
   }
  },
  {
   "cell_type": "code",
   "execution_count": 81,
   "outputs": [],
   "source": [
    "def logi_fun(x, c, a, b):\n",
    "    return c / (1 + (a * np.exp(-b * x)))\n",
    "\n",
    "def exp_fun(x, a, b, c, C):\n",
    "    return (a * np.exp((b * x) + c)) + C\n",
    "\n",
    "def logistic_function(x, a=1, b=0, c=1, d=0):\n",
    "    return a / (1 + np.exp(-c * (x - d))) + b\n",
    "\n",
    "\n",
    "def fit_fun(X, y, fitted_fun, calls, plot=True):\n",
    "    test = [1, 1, 1, 1]\n",
    "    popt, pcov = scipy.optimize.curve_fit(fitted_fun, X, y, maxfev=calls)\n",
    "    plt.plot(X, y, \".\", label=\"Observations\")\n",
    "    y_fit = fitted_fun(X, *popt)\n",
    "\n",
    "    if plot:\n",
    "        plt.plot(X, y_fit, 'r-')\n",
    "        plt.legend()\n",
    "        plt.show()"
   ],
   "metadata": {
    "collapsed": false,
    "pycharm": {
     "name": "#%%\n"
    }
   }
  },
  {
   "cell_type": "code",
   "execution_count": 97,
   "outputs": [
    {
     "data": {
      "text/plain": "<Figure size 432x288 with 1 Axes>",
      "image/png": "[encoded data removed]"
     },
     "metadata": {
      "needs_background": "light"
     },
     "output_type": "display_data"
    }
   ],
   "source": [
    "fit_fun(t, infected, exp_fun, 1000000)\n",
    "\n",
    "#popt, pcov = scipy.optimize.curve_fit(exp_fun, t, infected, maxfev=1000000)"
   ],
   "metadata": {
    "collapsed": false,
    "pycharm": {
     "name": "#%%\n"
    }
   }
  },
  {
   "cell_type": "code",
   "execution_count": 96,
   "outputs": [
    {
     "name": "stderr",
     "output_type": "stream",
     "text": [
      "/home/jakub/anaconda3/lib/python3.7/site-packages/ipykernel_launcher.py:2: RuntimeWarning: overflow encountered in exp\n",
      "  \n",
      "/home/jakub/.local/lib/python3.7/site-packages/scipy/optimize/minpack.py:794: OptimizeWarning: Covariance of the parameters could not be estimated\n",
      "  category=OptimizeWarning)\n",
      "/home/jakub/anaconda3/lib/python3.7/site-packages/ipykernel_launcher.py:2: RuntimeWarning: overflow encountered in exp\n",
      "  \n"
     ]
    },
    {
     "data": {
      "text/plain": "<Figure size 432x288 with 1 Axes>",
      "image/png": "[encoded data removed]"
     },
     "metadata": {
      "needs_background": "light"
     },
     "output_type": "display_data"
    }
   ],
   "source": [
    "fit_fun(t, infected, logistic_function, 10000)"
   ],
   "metadata": {
    "collapsed": false,
    "pycharm": {
     "name": "#%%\n"
    }
   }
  },
  {
   "cell_type": "code",
   "execution_count": 96,
   "outputs": [],
   "source": [],
   "metadata": {
    "collapsed": false,
    "pycharm": {
     "name": "#%%"
    }
   }
  }
 ],
 "metadata": {
  "kernelspec": {
   "display_name": "Python 3",
   "language": "python",
   "name": "python3"
  },
  "language_info": {
   "codemirror_mode": {
    "name": "ipython",
    "version": 2
   },
   "file_extension": ".py",
   "mimetype": "text/x-python",
   "name": "python",
   "nbconvert_exporter": "python",
   "pygments_lexer": "ipython2",
   "version": "2.7.6"
  }
 },
 "nbformat": 4,
 "nbformat_minor": 0
}